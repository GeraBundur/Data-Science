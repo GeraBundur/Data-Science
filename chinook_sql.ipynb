{
 "cells": [
  {
   "cell_type": "code",
   "execution_count": 2,
   "metadata": {
    "collapsed": false
   },
   "outputs": [
    {
     "data": {
      "text/plain": [
       "'Connected: None@chinook.db'"
      ]
     },
     "execution_count": 2,
     "metadata": {},
     "output_type": "execute_result"
    }
   ],
   "source": [
    "%%capture\n",
    "%load_ext sql\n",
    "%sql sqlite:///chinook.db"
   ]
  },
  {
   "cell_type": "markdown",
   "metadata": {},
   "source": [
    "## Tables overview"
   ]
  },
  {
   "cell_type": "code",
   "execution_count": 2,
   "metadata": {
    "collapsed": false
   },
   "outputs": [
    {
     "name": "stdout",
     "output_type": "stream",
     "text": [
      "Done.\n"
     ]
    },
    {
     "data": {
      "text/html": [
       "<table>\n",
       "    <tr>\n",
       "        <th>name</th>\n",
       "        <th>type</th>\n",
       "    </tr>\n",
       "    <tr>\n",
       "        <td>album</td>\n",
       "        <td>table</td>\n",
       "    </tr>\n",
       "    <tr>\n",
       "        <td>artist</td>\n",
       "        <td>table</td>\n",
       "    </tr>\n",
       "    <tr>\n",
       "        <td>customer</td>\n",
       "        <td>table</td>\n",
       "    </tr>\n",
       "    <tr>\n",
       "        <td>employee</td>\n",
       "        <td>table</td>\n",
       "    </tr>\n",
       "    <tr>\n",
       "        <td>genre</td>\n",
       "        <td>table</td>\n",
       "    </tr>\n",
       "    <tr>\n",
       "        <td>invoice</td>\n",
       "        <td>table</td>\n",
       "    </tr>\n",
       "    <tr>\n",
       "        <td>invoice_line</td>\n",
       "        <td>table</td>\n",
       "    </tr>\n",
       "    <tr>\n",
       "        <td>media_type</td>\n",
       "        <td>table</td>\n",
       "    </tr>\n",
       "    <tr>\n",
       "        <td>playlist</td>\n",
       "        <td>table</td>\n",
       "    </tr>\n",
       "    <tr>\n",
       "        <td>playlist_track</td>\n",
       "        <td>table</td>\n",
       "    </tr>\n",
       "    <tr>\n",
       "        <td>track</td>\n",
       "        <td>table</td>\n",
       "    </tr>\n",
       "</table>"
      ],
      "text/plain": [
       "[('album', 'table'),\n",
       " ('artist', 'table'),\n",
       " ('customer', 'table'),\n",
       " ('employee', 'table'),\n",
       " ('genre', 'table'),\n",
       " ('invoice', 'table'),\n",
       " ('invoice_line', 'table'),\n",
       " ('media_type', 'table'),\n",
       " ('playlist', 'table'),\n",
       " ('playlist_track', 'table'),\n",
       " ('track', 'table')]"
      ]
     },
     "execution_count": 2,
     "metadata": {},
     "output_type": "execute_result"
    }
   ],
   "source": [
    "%%sql\n",
    "SELECT \n",
    "    name,\n",
    "    type\n",
    "FROM sqlite_master\n",
    "WHERE type in (\"table\",\"view\");"
   ]
  },
  {
   "cell_type": "markdown",
   "metadata": {},
   "source": [
    "## 1.The most selling genres in USA"
   ]
  },
  {
   "cell_type": "code",
   "execution_count": 17,
   "metadata": {
    "collapsed": false
   },
   "outputs": [
    {
     "name": "stdout",
     "output_type": "stream",
     "text": [
      "Done.\n"
     ]
    },
    {
     "data": {
      "text/html": [
       "<table>\n",
       "    <tr>\n",
       "        <th>Genre</th>\n",
       "        <th>Number of Tracks</th>\n",
       "        <th>Genre proportion</th>\n",
       "    </tr>\n",
       "    <tr>\n",
       "        <td>Rock</td>\n",
       "        <td>561</td>\n",
       "        <td>53.4%</td>\n",
       "    </tr>\n",
       "    <tr>\n",
       "        <td>Alternative &amp; Punk</td>\n",
       "        <td>130</td>\n",
       "        <td>12.4%</td>\n",
       "    </tr>\n",
       "    <tr>\n",
       "        <td>Metal</td>\n",
       "        <td>124</td>\n",
       "        <td>11.8%</td>\n",
       "    </tr>\n",
       "    <tr>\n",
       "        <td>R&amp;B/Soul</td>\n",
       "        <td>53</td>\n",
       "        <td>5.0%</td>\n",
       "    </tr>\n",
       "    <tr>\n",
       "        <td>Blues</td>\n",
       "        <td>36</td>\n",
       "        <td>3.4%</td>\n",
       "    </tr>\n",
       "    <tr>\n",
       "        <td>Alternative</td>\n",
       "        <td>35</td>\n",
       "        <td>3.3%</td>\n",
       "    </tr>\n",
       "    <tr>\n",
       "        <td>Latin</td>\n",
       "        <td>22</td>\n",
       "        <td>2.1%</td>\n",
       "    </tr>\n",
       "    <tr>\n",
       "        <td>Pop</td>\n",
       "        <td>22</td>\n",
       "        <td>2.1%</td>\n",
       "    </tr>\n",
       "    <tr>\n",
       "        <td>Hip Hop/Rap</td>\n",
       "        <td>20</td>\n",
       "        <td>1.9%</td>\n",
       "    </tr>\n",
       "    <tr>\n",
       "        <td>Jazz</td>\n",
       "        <td>14</td>\n",
       "        <td>1.3%</td>\n",
       "    </tr>\n",
       "    <tr>\n",
       "        <td>Easy Listening</td>\n",
       "        <td>13</td>\n",
       "        <td>1.2%</td>\n",
       "    </tr>\n",
       "    <tr>\n",
       "        <td>Reggae</td>\n",
       "        <td>6</td>\n",
       "        <td>0.6%</td>\n",
       "    </tr>\n",
       "    <tr>\n",
       "        <td>Electronica/Dance</td>\n",
       "        <td>5</td>\n",
       "        <td>0.5%</td>\n",
       "    </tr>\n",
       "    <tr>\n",
       "        <td>Classical</td>\n",
       "        <td>4</td>\n",
       "        <td>0.4%</td>\n",
       "    </tr>\n",
       "    <tr>\n",
       "        <td>Heavy Metal</td>\n",
       "        <td>3</td>\n",
       "        <td>0.3%</td>\n",
       "    </tr>\n",
       "    <tr>\n",
       "        <td>Soundtrack</td>\n",
       "        <td>2</td>\n",
       "        <td>0.2%</td>\n",
       "    </tr>\n",
       "    <tr>\n",
       "        <td>TV Shows</td>\n",
       "        <td>1</td>\n",
       "        <td>0.1%</td>\n",
       "    </tr>\n",
       "</table>"
      ],
      "text/plain": [
       "[('Rock', 561, '53.4%'),\n",
       " ('Alternative & Punk', 130, '12.4%'),\n",
       " ('Metal', 124, '11.8%'),\n",
       " ('R&B/Soul', 53, '5.0%'),\n",
       " ('Blues', 36, '3.4%'),\n",
       " ('Alternative', 35, '3.3%'),\n",
       " ('Latin', 22, '2.1%'),\n",
       " ('Pop', 22, '2.1%'),\n",
       " ('Hip Hop/Rap', 20, '1.9%'),\n",
       " ('Jazz', 14, '1.3%'),\n",
       " ('Easy Listening', 13, '1.2%'),\n",
       " ('Reggae', 6, '0.6%'),\n",
       " ('Electronica/Dance', 5, '0.5%'),\n",
       " ('Classical', 4, '0.4%'),\n",
       " ('Heavy Metal', 3, '0.3%'),\n",
       " ('Soundtrack', 2, '0.2%'),\n",
       " ('TV Shows', 1, '0.1%')]"
      ]
     },
     "execution_count": 17,
     "metadata": {},
     "output_type": "execute_result"
    }
   ],
   "source": [
    "%%sql\n",
    "--First subquery to connect tracks to customer data so we can isolate the US\n",
    "WITH \n",
    "usa_tracks AS\n",
    "(\n",
    "    SELECT\n",
    "    il.*\n",
    "    FROM invoice_line il\n",
    "    LEFT JOIN invoice i ON i.invoice_id = il.invoice_id\n",
    "    LEFT JOIN customer c ON c.customer_id = i.customer_id\n",
    "    WHERE c.country == \"USA\"\n",
    "),\n",
    "--Joining track table with the genre name\n",
    "track_genre AS \n",
    "(\n",
    "    SELECT\n",
    "    t.*,\n",
    "    g.name AS genre\n",
    "    FROM track t\n",
    "    LEFT JOIN genre g ON g.genre_id = t.genre_id\n",
    ")\n",
    "\n",
    "SELECT\n",
    "tg.genre AS Genre,\n",
    "SUM(ut.quantity) \"Number of Tracks\",\n",
    "ROUND((CAST(SUM(ut.quantity) AS FLOAT) / (SELECT COUNT(*) FROM usa_tracks))*100, 1) || \"%\" AS \"Genre proportion\"\n",
    "FROM usa_tracks AS ut\n",
    "LEFT JOIN track_genre AS tg ON tg.track_id = ut.track_id\n",
    "GROUP BY 1\n",
    "ORDER BY 2 DESC;"
   ]
  },
  {
   "cell_type": "markdown",
   "metadata": {},
   "source": [
    "The final table says to us that the most likely genre in US are Rock(53%), Alternative&Punk(12,4%), Metal(11,8%)"
   ]
  },
  {
   "cell_type": "markdown",
   "metadata": {},
   "source": [
    "## 2. Sales perfomance by sales agents\n",
    "In this query I'll find the total dollar amount of sales assigned to each sales support agent within the company"
   ]
  },
  {
   "cell_type": "code",
   "execution_count": 34,
   "metadata": {
    "collapsed": false
   },
   "outputs": [
    {
     "name": "stdout",
     "output_type": "stream",
     "text": [
      "Done.\n"
     ]
    },
    {
     "data": {
      "text/html": [
       "<table>\n",
       "    <tr>\n",
       "        <th>Agent_name</th>\n",
       "        <th>Total_sales</th>\n",
       "        <th>Title</th>\n",
       "        <th>Date of hiring</th>\n",
       "    </tr>\n",
       "    <tr>\n",
       "        <td>Jane Peacock</td>\n",
       "        <td>1732.0</td>\n",
       "        <td>Sales Support Agent</td>\n",
       "        <td>2017-04-01 00:00:00</td>\n",
       "    </tr>\n",
       "    <tr>\n",
       "        <td>Margaret Park</td>\n",
       "        <td>1584.0</td>\n",
       "        <td>Sales Support Agent</td>\n",
       "        <td>2017-05-03 00:00:00</td>\n",
       "    </tr>\n",
       "    <tr>\n",
       "        <td>Steve Johnson</td>\n",
       "        <td>1394.0</td>\n",
       "        <td>Sales Support Agent</td>\n",
       "        <td>2017-10-17 00:00:00</td>\n",
       "    </tr>\n",
       "</table>"
      ],
      "text/plain": [
       "[('Jane Peacock', 1732.0, 'Sales Support Agent', '2017-04-01 00:00:00'),\n",
       " ('Margaret Park', 1584.0, 'Sales Support Agent', '2017-05-03 00:00:00'),\n",
       " ('Steve Johnson', 1394.0, 'Sales Support Agent', '2017-10-17 00:00:00')]"
      ]
     },
     "execution_count": 34,
     "metadata": {},
     "output_type": "execute_result"
    }
   ],
   "source": [
    "%%sql\n",
    "SELECT\n",
    "e.first_name || \" \" || e.last_name AS Agent_name,\n",
    "ROUND(SUM(i.total)) AS Total_sales,\n",
    "e.title AS Title,\n",
    "e.hire_date AS \"Date of hiring\"\n",
    "FROM employee e\n",
    "LEFT JOIN customer c ON c.support_rep_id = e.employee_id\n",
    "LEFT JOIN invoice i ON i.customer_id = c.customer_id\n",
    "WHERE title LIKE \"%Support%\"\n",
    "GROUP BY c.support_rep_id\n",
    "ORDER BY 2 DESC;"
   ]
  },
  {
   "cell_type": "markdown",
   "metadata": {},
   "source": [
    "The most \"useful\" agent is Jane Peacock, She made a total amount 1731$, the 2nd 1584$ and 3rd 1394$"
   ]
  },
  {
   "cell_type": "markdown",
   "metadata": {},
   "source": [
    "## 3. Sales by country\n",
    "\n",
    "In the query we will find out for each country: \n",
    "- total number of customers\n",
    "- total value of sales\n",
    "- average value of sales per customer\n",
    "- average order value"
   ]
  },
  {
   "cell_type": "code",
   "execution_count": 62,
   "metadata": {
    "collapsed": false,
    "scrolled": true
   },
   "outputs": [
    {
     "name": "stdout",
     "output_type": "stream",
     "text": [
      "Done.\n"
     ]
    },
    {
     "data": {
      "text/html": [
       "<table>\n",
       "    <tr>\n",
       "        <th>country</th>\n",
       "        <th>total_customers</th>\n",
       "        <th>total_sales</th>\n",
       "        <th>avg_sales_per_customer</th>\n",
       "        <th>avg_order_value</th>\n",
       "    </tr>\n",
       "    <tr>\n",
       "        <td>USA</td>\n",
       "        <td>13</td>\n",
       "        <td>1040.4899999999998</td>\n",
       "        <td>80.0376923076923</td>\n",
       "        <td>7.942671755725189</td>\n",
       "    </tr>\n",
       "    <tr>\n",
       "        <td>Canada</td>\n",
       "        <td>8</td>\n",
       "        <td>535.5900000000001</td>\n",
       "        <td>66.94875000000002</td>\n",
       "        <td>7.047236842105265</td>\n",
       "    </tr>\n",
       "    <tr>\n",
       "        <td>Brazil</td>\n",
       "        <td>5</td>\n",
       "        <td>427.68000000000006</td>\n",
       "        <td>85.53600000000002</td>\n",
       "        <td>7.0111475409836075</td>\n",
       "    </tr>\n",
       "    <tr>\n",
       "        <td>France</td>\n",
       "        <td>5</td>\n",
       "        <td>389.0699999999999</td>\n",
       "        <td>77.81399999999998</td>\n",
       "        <td>7.781399999999998</td>\n",
       "    </tr>\n",
       "    <tr>\n",
       "        <td>Germany</td>\n",
       "        <td>4</td>\n",
       "        <td>334.62</td>\n",
       "        <td>83.655</td>\n",
       "        <td>8.161463414634147</td>\n",
       "    </tr>\n",
       "    <tr>\n",
       "        <td>Czech Republic</td>\n",
       "        <td>2</td>\n",
       "        <td>273.24000000000007</td>\n",
       "        <td>136.62000000000003</td>\n",
       "        <td>9.108000000000002</td>\n",
       "    </tr>\n",
       "    <tr>\n",
       "        <td>United Kingdom</td>\n",
       "        <td>3</td>\n",
       "        <td>245.52</td>\n",
       "        <td>81.84</td>\n",
       "        <td>8.768571428571429</td>\n",
       "    </tr>\n",
       "    <tr>\n",
       "        <td>Portugal</td>\n",
       "        <td>2</td>\n",
       "        <td>185.13000000000002</td>\n",
       "        <td>92.56500000000001</td>\n",
       "        <td>6.383793103448276</td>\n",
       "    </tr>\n",
       "    <tr>\n",
       "        <td>India</td>\n",
       "        <td>2</td>\n",
       "        <td>183.14999999999998</td>\n",
       "        <td>91.57499999999999</td>\n",
       "        <td>8.72142857142857</td>\n",
       "    </tr>\n",
       "    <tr>\n",
       "        <td>Other</td>\n",
       "        <td>15</td>\n",
       "        <td>1094.9400000000003</td>\n",
       "        <td>72.99600000000002</td>\n",
       "        <td>7.44857142857143</td>\n",
       "    </tr>\n",
       "</table>"
      ],
      "text/plain": [
       "[('USA', 13, 1040.4899999999998, 80.0376923076923, 7.942671755725189),\n",
       " ('Canada', 8, 535.5900000000001, 66.94875000000002, 7.047236842105265),\n",
       " ('Brazil', 5, 427.68000000000006, 85.53600000000002, 7.0111475409836075),\n",
       " ('France', 5, 389.0699999999999, 77.81399999999998, 7.781399999999998),\n",
       " ('Germany', 4, 334.62, 83.655, 8.161463414634147),\n",
       " ('Czech Republic', 2, 273.24000000000007, 136.62000000000003, 9.108000000000002),\n",
       " ('United Kingdom', 3, 245.52, 81.84, 8.768571428571429),\n",
       " ('Portugal', 2, 185.13000000000002, 92.56500000000001, 6.383793103448276),\n",
       " ('India', 2, 183.14999999999998, 91.57499999999999, 8.72142857142857),\n",
       " ('Other', 15, 1094.9400000000003, 72.99600000000002, 7.44857142857143)]"
      ]
     },
     "execution_count": 62,
     "metadata": {},
     "output_type": "execute_result"
    }
   ],
   "source": [
    "%%sql \n",
    "WITH countries AS\n",
    "(\n",
    "    SELECT CASE WHEN\n",
    "    (\n",
    "        SELECT COUNT(*) FROM customer\n",
    "        WHERE c.country = country\n",
    "    ) = 1 THEN \"Other\"\n",
    "    ELSE c.country END \"Country\", c.customer_id, i.*\n",
    "    FROM invoice i\n",
    "    INNER JOIN  customer c  on i.customer_id = c.customer_id\n",
    ")    \n",
    "\n",
    "SELECT country, total_customers, total_sales, avg_sales_per_customer, avg_order_value\n",
    "FROM (\n",
    "    SELECT country, \n",
    "    COUNT(distinct customer_id) AS \"total_customers\",\n",
    "    SUM(total)AS \"total_sales\", \n",
    "    SUM(total) / COUNT(distinct customer_id) AS \"avg_sales_per_customer\",\n",
    "    SUM(total) / COUNT(distinct invoice_id) AS \"avg_order_value\",\n",
    "    CASE\n",
    "        WHEN country = \"Other\" THEN 1\n",
    "        ELSE 0\n",
    "        END AS sort\n",
    "    FROM countries\n",
    "    GROUP BY country\n",
    "    ORDER BY sort, total_sales DESC\n",
    "     \n",
    ")"
   ]
  },
  {
   "cell_type": "markdown",
   "metadata": {},
   "source": [
    "USA has the biggest total number of customers, also the biggest total value of sales. In average customers from Czech spend more than everyone else and average order value as well"
   ]
  },
  {
   "cell_type": "markdown",
   "metadata": {},
   "source": [
    "## 4.Categorization of invoices: Albums vs Individual tracks"
   ]
  },
  {
   "cell_type": "code",
   "execution_count": 71,
   "metadata": {
    "collapsed": false
   },
   "outputs": [
    {
     "name": "stdout",
     "output_type": "stream",
     "text": [
      "Done.\n"
     ]
    },
    {
     "data": {
      "text/html": [
       "<table>\n",
       "    <tr>\n",
       "        <th>album_purchase</th>\n",
       "        <th>total_invoices</th>\n",
       "        <th>invoice_percentages</th>\n",
       "    </tr>\n",
       "    <tr>\n",
       "        <td>NO</td>\n",
       "        <td>500</td>\n",
       "        <td>81.4</td>\n",
       "    </tr>\n",
       "    <tr>\n",
       "        <td>YES</td>\n",
       "        <td>114</td>\n",
       "        <td>18.6</td>\n",
       "    </tr>\n",
       "</table>"
      ],
      "text/plain": [
       "[('NO', 500, 81.4), ('YES', 114, 18.6)]"
      ]
     },
     "execution_count": 71,
     "metadata": {},
     "output_type": "execute_result"
    }
   ],
   "source": [
    "%%sql\n",
    "WITH category_invoice AS \n",
    "(\n",
    "    SELECT t.track_id AS track_id, i.invoice_id\n",
    "            FROM track t\n",
    "            INNER JOIN invoice_line il ON il.track_id = t.track_id\n",
    "            INNER JOIN invoice i ON i.invoice_id = il.invoice_id\n",
    "            GROUP BY i.invoice_id\n",
    ")\n",
    "SELECT \n",
    "album_purchase,\n",
    "COUNT(invoice_id) AS total_invoices,\n",
    "ROUND(CAST(COUNT(invoice_id) AS FLOAT) / (SELECT COUNT(*) FROM invoice) * 100, 1) AS invoice_percentages\n",
    "FROM \n",
    "(\n",
    "    SELECT ci.*,\n",
    "        CASE\n",
    "            WHEN(\n",
    "                  SELECT t.track_id FROM track t\n",
    "                  WHERE t.album_id = (\n",
    "                                      SELECT t2.album_id FROM track t2\n",
    "                                      WHERE t2.track_id = ci.track_id\n",
    "                                     ) \n",
    "\n",
    "                  EXCEPT \n",
    "\n",
    "                  SELECT il2.track_id FROM invoice_line il2\n",
    "                  WHERE il2.invoice_id = ci.invoice_id\n",
    "                 ) IS NULL\n",
    "             AND (\n",
    "                  SELECT il2.track_id FROM invoice_line il2\n",
    "                  WHERE il2.invoice_id = ci.invoice_id\n",
    "\n",
    "                  EXCEPT \n",
    "\n",
    "                  SELECT t.track_id FROM track t\n",
    "                  WHERE t.album_id = (\n",
    "                                      SELECT t2.album_id FROM track t2\n",
    "                                      WHERE t2.track_id = ci.track_id\n",
    "                                     ) \n",
    "                 ) IS NULL\n",
    "             THEN \"YES\"\n",
    "             ELSE \"NO\"\n",
    "         END AS \"album_purchase\"\n",
    "     FROM category_invoice ci\n",
    "    )\n",
    "GROUP BY album_purchase;"
   ]
  },
  {
   "cell_type": "markdown",
   "metadata": {},
   "source": [
    "As a result people prefer buy tracks individually (81,4%) rather than the whole albums at once (18,6%)"
   ]
  },
  {
   "cell_type": "markdown",
   "metadata": {
    "collapsed": true
   },
   "source": [
    "## 5. The artist plaled in the most playlists"
   ]
  },
  {
   "cell_type": "code",
   "execution_count": 9,
   "metadata": {
    "collapsed": true
   },
   "outputs": [
    {
     "name": "stdout",
     "output_type": "stream",
     "text": [
      "Done.\n"
     ]
    },
    {
     "data": {
      "text/html": [
       "<table>\n",
       "    <tr>\n",
       "        <th>artist_name</th>\n",
       "        <th>number_of_appears</th>\n",
       "        <th>playlist_name</th>\n",
       "    </tr>\n",
       "    <tr>\n",
       "        <td>Iron Maiden</td>\n",
       "        <td>516</td>\n",
       "        <td>Heavy Metal Classic</td>\n",
       "    </tr>\n",
       "    <tr>\n",
       "        <td>U2</td>\n",
       "        <td>333</td>\n",
       "        <td>Music</td>\n",
       "    </tr>\n",
       "    <tr>\n",
       "        <td>Metallica</td>\n",
       "        <td>296</td>\n",
       "        <td>Heavy Metal Classic</td>\n",
       "    </tr>\n",
       "    <tr>\n",
       "        <td>Led Zeppelin</td>\n",
       "        <td>252</td>\n",
       "        <td>Music</td>\n",
       "    </tr>\n",
       "    <tr>\n",
       "        <td>Deep Purple</td>\n",
       "        <td>226</td>\n",
       "        <td>Music</td>\n",
       "    </tr>\n",
       "    <tr>\n",
       "        <td>Lost</td>\n",
       "        <td>184</td>\n",
       "        <td>TV Shows</td>\n",
       "    </tr>\n",
       "    <tr>\n",
       "        <td>Pearl Jam</td>\n",
       "        <td>177</td>\n",
       "        <td>Grunge</td>\n",
       "    </tr>\n",
       "    <tr>\n",
       "        <td>Eric Clapton</td>\n",
       "        <td>145</td>\n",
       "        <td>Brazilian Music</td>\n",
       "    </tr>\n",
       "    <tr>\n",
       "        <td>Faith No More</td>\n",
       "        <td>145</td>\n",
       "        <td>Music</td>\n",
       "    </tr>\n",
       "    <tr>\n",
       "        <td>Lenny Kravitz</td>\n",
       "        <td>143</td>\n",
       "        <td>Music</td>\n",
       "    </tr>\n",
       "    <tr>\n",
       "        <td>Red Hot Chili Peppers</td>\n",
       "        <td>128</td>\n",
       "        <td>Music</td>\n",
       "    </tr>\n",
       "    <tr>\n",
       "        <td>Van Halen</td>\n",
       "        <td>122</td>\n",
       "        <td>Music</td>\n",
       "    </tr>\n",
       "    <tr>\n",
       "        <td>Os Paralamas Do Sucesso</td>\n",
       "        <td>119</td>\n",
       "        <td>Music</td>\n",
       "    </tr>\n",
       "    <tr>\n",
       "        <td>Guns N&#x27; Roses</td>\n",
       "        <td>114</td>\n",
       "        <td>Music</td>\n",
       "    </tr>\n",
       "    <tr>\n",
       "        <td>Titãs</td>\n",
       "        <td>114</td>\n",
       "        <td>Music</td>\n",
       "    </tr>\n",
       "    <tr>\n",
       "        <td>Various Artists</td>\n",
       "        <td>112</td>\n",
       "        <td>Music</td>\n",
       "    </tr>\n",
       "    <tr>\n",
       "        <td>The Rolling Stones</td>\n",
       "        <td>111</td>\n",
       "        <td>Music</td>\n",
       "    </tr>\n",
       "    <tr>\n",
       "        <td>Chico Science &amp; Nação Zumbi</td>\n",
       "        <td>108</td>\n",
       "        <td>Music</td>\n",
       "    </tr>\n",
       "    <tr>\n",
       "        <td>The Office</td>\n",
       "        <td>106</td>\n",
       "        <td>TV Shows</td>\n",
       "    </tr>\n",
       "    <tr>\n",
       "        <td>Kiss</td>\n",
       "        <td>104</td>\n",
       "        <td>Music</td>\n",
       "    </tr>\n",
       "    <tr>\n",
       "        <td>Foo Fighters</td>\n",
       "        <td>101</td>\n",
       "        <td>Music</td>\n",
       "    </tr>\n",
       "</table>"
      ],
      "text/plain": [
       "[('Iron Maiden', 516, 'Heavy Metal Classic'),\n",
       " ('U2', 333, 'Music'),\n",
       " ('Metallica', 296, 'Heavy Metal Classic'),\n",
       " ('Led Zeppelin', 252, 'Music'),\n",
       " ('Deep Purple', 226, 'Music'),\n",
       " ('Lost', 184, 'TV Shows'),\n",
       " ('Pearl Jam', 177, 'Grunge'),\n",
       " ('Eric Clapton', 145, 'Brazilian Music'),\n",
       " ('Faith No More', 145, 'Music'),\n",
       " ('Lenny Kravitz', 143, 'Music'),\n",
       " ('Red Hot Chili Peppers', 128, 'Music'),\n",
       " ('Van Halen', 122, 'Music'),\n",
       " ('Os Paralamas Do Sucesso', 119, 'Music'),\n",
       " (\"Guns N' Roses\", 114, 'Music'),\n",
       " ('Titãs', 114, 'Music'),\n",
       " ('Various Artists', 112, 'Music'),\n",
       " ('The Rolling Stones', 111, 'Music'),\n",
       " ('Chico Science & Nação Zumbi', 108, 'Music'),\n",
       " ('The Office', 106, 'TV Shows'),\n",
       " ('Kiss', 104, 'Music'),\n",
       " ('Foo Fighters', 101, 'Music')]"
      ]
     },
     "execution_count": 9,
     "metadata": {},
     "output_type": "execute_result"
    }
   ],
   "source": [
    "%%sql\n",
    "SELECT ar.name AS artist_name, COUNT(p.playlist_id) AS number_of_appears, p.name AS playlist_name\n",
    "FROM playlist_track AS pl\n",
    "LEFT JOIN playlist p ON pl.playlist_id = p.playlist_id\n",
    "LEFT JOIN track t ON pl.track_id = t.track_id\n",
    "LEFT JOIN album al ON t.album_id = al.album_id\n",
    "LEFT JOIN artist ar ON al.artist_id = ar.artist_id\n",
    "GROUP BY 1\n",
    "HAVING number_of_appears > 100\n",
    "ORDER BY 2 DESC;"
   ]
  },
  {
   "cell_type": "markdown",
   "metadata": {},
   "source": [
    "As a result Iron Maiden the most popular band that playlists usually contain. The 2nd place U2 with 333 appears and 3rd Metallica with 296"
   ]
  },
  {
   "cell_type": "markdown",
   "metadata": {},
   "source": [
    "## 6. How many tracks have been purchased vs not purchased?"
   ]
  },
  {
   "cell_type": "code",
   "execution_count": 12,
   "metadata": {
    "collapsed": false
   },
   "outputs": [
    {
     "name": "stdout",
     "output_type": "stream",
     "text": [
      "Done.\n"
     ]
    },
    {
     "data": {
      "text/html": [
       "<table>\n",
       "    <tr>\n",
       "        <th>purchased_tracks</th>\n",
       "        <th>not_purchased_tracks</th>\n",
       "    </tr>\n",
       "    <tr>\n",
       "        <td>1806</td>\n",
       "        <td>1697</td>\n",
       "    </tr>\n",
       "</table>"
      ],
      "text/plain": [
       "[(1806, 1697)]"
      ]
     },
     "execution_count": 12,
     "metadata": {},
     "output_type": "execute_result"
    }
   ],
   "source": [
    "%%sql\n",
    "WITH track_invoice AS \n",
    "(\n",
    "    SELECT track_id FROM invoice_line\n",
    ")\n",
    "SELECT \n",
    "COUNT(DISTINCT ti.track_id) AS purchased_tracks,\n",
    "(\n",
    "    SELECT COUNT(DISTINCT track_id) FROM track WHERE track_id NOT IN \n",
    "    (SELECT track_id from track_invoice) \n",
    ")   AS not_purchased_tracks\n",
    "FROM track_invoice ti\n",
    "LEFT JOIN track t ON t.track_id = ti.track_id;"
   ]
  },
  {
   "cell_type": "markdown",
   "metadata": {},
   "source": [
    "1806 tracks were purchased against 1697 were not. "
   ]
  },
  {
   "cell_type": "markdown",
   "metadata": {},
   "source": [
    "## 7. Is the range of tracks in the store reflective of their sales popularity?"
   ]
  },
  {
   "cell_type": "code",
   "execution_count": 22,
   "metadata": {
    "collapsed": false,
    "scrolled": true
   },
   "outputs": [
    {
     "name": "stdout",
     "output_type": "stream",
     "text": [
      "Done.\n"
     ]
    },
    {
     "data": {
      "text/html": [
       "<table>\n",
       "    <tr>\n",
       "        <th>genre</th>\n",
       "        <th>percentage_popularity</th>\n",
       "        <th>invoice_amount</th>\n",
       "    </tr>\n",
       "    <tr>\n",
       "        <td>Rock</td>\n",
       "        <td>55.4</td>\n",
       "        <td>2608.6</td>\n",
       "    </tr>\n",
       "    <tr>\n",
       "        <td>Metal</td>\n",
       "        <td>13.0</td>\n",
       "        <td>612.8</td>\n",
       "    </tr>\n",
       "    <tr>\n",
       "        <td>Alternative &amp; Punk</td>\n",
       "        <td>10.3</td>\n",
       "        <td>487.1</td>\n",
       "    </tr>\n",
       "    <tr>\n",
       "        <td>Latin</td>\n",
       "        <td>3.5</td>\n",
       "        <td>165.3</td>\n",
       "    </tr>\n",
       "    <tr>\n",
       "        <td>R&amp;B/Soul</td>\n",
       "        <td>3.3</td>\n",
       "        <td>157.4</td>\n",
       "    </tr>\n",
       "    <tr>\n",
       "        <td>Blues</td>\n",
       "        <td>2.6</td>\n",
       "        <td>122.8</td>\n",
       "    </tr>\n",
       "    <tr>\n",
       "        <td>Jazz</td>\n",
       "        <td>2.5</td>\n",
       "        <td>119.8</td>\n",
       "    </tr>\n",
       "    <tr>\n",
       "        <td>Alternative</td>\n",
       "        <td>2.5</td>\n",
       "        <td>115.8</td>\n",
       "    </tr>\n",
       "    <tr>\n",
       "        <td>Easy Listening</td>\n",
       "        <td>1.6</td>\n",
       "        <td>73.3</td>\n",
       "    </tr>\n",
       "    <tr>\n",
       "        <td>Pop</td>\n",
       "        <td>1.3</td>\n",
       "        <td>62.4</td>\n",
       "    </tr>\n",
       "    <tr>\n",
       "        <td>Electronica/Dance</td>\n",
       "        <td>1.2</td>\n",
       "        <td>54.5</td>\n",
       "    </tr>\n",
       "    <tr>\n",
       "        <td>Classical</td>\n",
       "        <td>1.0</td>\n",
       "        <td>46.5</td>\n",
       "    </tr>\n",
       "    <tr>\n",
       "        <td>Reggae</td>\n",
       "        <td>0.7</td>\n",
       "        <td>34.6</td>\n",
       "    </tr>\n",
       "    <tr>\n",
       "        <td>Hip Hop/Rap</td>\n",
       "        <td>0.7</td>\n",
       "        <td>32.7</td>\n",
       "    </tr>\n",
       "    <tr>\n",
       "        <td>Heavy Metal</td>\n",
       "        <td>0.2</td>\n",
       "        <td>7.9</td>\n",
       "    </tr>\n",
       "    <tr>\n",
       "        <td>Soundtrack</td>\n",
       "        <td>0.1</td>\n",
       "        <td>5.0</td>\n",
       "    </tr>\n",
       "    <tr>\n",
       "        <td>TV Shows</td>\n",
       "        <td>0.0</td>\n",
       "        <td>2.0</td>\n",
       "    </tr>\n",
       "    <tr>\n",
       "        <td>Drama</td>\n",
       "        <td>0.0</td>\n",
       "        <td>1.0</td>\n",
       "    </tr>\n",
       "</table>"
      ],
      "text/plain": [
       "[('Rock', 55.4, 2608.6),\n",
       " ('Metal', 13.0, 612.8),\n",
       " ('Alternative & Punk', 10.3, 487.1),\n",
       " ('Latin', 3.5, 165.3),\n",
       " ('R&B/Soul', 3.3, 157.4),\n",
       " ('Blues', 2.6, 122.8),\n",
       " ('Jazz', 2.5, 119.8),\n",
       " ('Alternative', 2.5, 115.8),\n",
       " ('Easy Listening', 1.6, 73.3),\n",
       " ('Pop', 1.3, 62.4),\n",
       " ('Electronica/Dance', 1.2, 54.5),\n",
       " ('Classical', 1.0, 46.5),\n",
       " ('Reggae', 0.7, 34.6),\n",
       " ('Hip Hop/Rap', 0.7, 32.7),\n",
       " ('Heavy Metal', 0.2, 7.9),\n",
       " ('Soundtrack', 0.1, 5.0),\n",
       " ('TV Shows', 0.0, 2.0),\n",
       " ('Drama', 0.0, 1.0)]"
      ]
     },
     "execution_count": 22,
     "metadata": {},
     "output_type": "execute_result"
    }
   ],
   "source": [
    "%%sql\n",
    "WITH range_tracks AS \n",
    "(SELECT il.*, t.genre_id\n",
    " FROM invoice_line AS il\n",
    " INNER JOIN track AS t ON t.track_id = il.track_id\n",
    ")\n",
    "SELECT \n",
    "g.name AS genre,\n",
    "ROUND(SUM(rt.quantity) / (SELECT CAST(SUM(quantity) AS FLOAT) FROM invoice_line)*100,1) AS percentage_popularity,\n",
    "ROUND(SUM(rt.unit_price * rt.quantity),1) AS invoice_amount\n",
    "FROM range_tracks rt\n",
    "INNER JOIN genre AS g ON g.genre_id = rt.genre_id\n",
    "\n",
    "GROUP BY 1\n",
    "ORDER BY 2 DESC,3 DESC;"
   ]
  },
  {
   "cell_type": "markdown",
   "metadata": {},
   "source": [
    "Obviously yes, Rock has 55% of the overall range of tracks and as the result the largest invoice amount. The next is metal with 13% and then Alternative & Punk with 10%."
   ]
  },
  {
   "cell_type": "markdown",
   "metadata": {},
   "source": [
    "## 8. protected vs non-protected media types? Effect on popularity"
   ]
  },
  {
   "cell_type": "code",
   "execution_count": 24,
   "metadata": {
    "collapsed": false
   },
   "outputs": [
    {
     "name": "stdout",
     "output_type": "stream",
     "text": [
      "Done.\n"
     ]
    },
    {
     "data": {
      "text/html": [
       "<table>\n",
       "    <tr>\n",
       "        <th>name</th>\n",
       "    </tr>\n",
       "    <tr>\n",
       "        <td>MPEG audio file</td>\n",
       "    </tr>\n",
       "    <tr>\n",
       "        <td>Protected AAC audio file</td>\n",
       "    </tr>\n",
       "    <tr>\n",
       "        <td>Protected MPEG-4 video file</td>\n",
       "    </tr>\n",
       "    <tr>\n",
       "        <td>Purchased AAC audio file</td>\n",
       "    </tr>\n",
       "    <tr>\n",
       "        <td>AAC audio file</td>\n",
       "    </tr>\n",
       "</table>"
      ],
      "text/plain": [
       "[('MPEG audio file',),\n",
       " ('Protected AAC audio file',),\n",
       " ('Protected MPEG-4 video file',),\n",
       " ('Purchased AAC audio file',),\n",
       " ('AAC audio file',)]"
      ]
     },
     "execution_count": 24,
     "metadata": {},
     "output_type": "execute_result"
    }
   ],
   "source": [
    "%%sql\n",
    "SELECT name FROM media_type;"
   ]
  },
  {
   "cell_type": "code",
   "execution_count": 31,
   "metadata": {
    "collapsed": false
   },
   "outputs": [
    {
     "name": "stdout",
     "output_type": "stream",
     "text": [
      "Done.\n"
     ]
    },
    {
     "data": {
      "text/html": [
       "<table>\n",
       "    <tr>\n",
       "        <th>protected</th>\n",
       "        <th>count_tracks</th>\n",
       "        <th>percentage_tracks</th>\n",
       "    </tr>\n",
       "    <tr>\n",
       "        <td>NO</td>\n",
       "        <td>1652</td>\n",
       "        <td>91.5</td>\n",
       "    </tr>\n",
       "    <tr>\n",
       "        <td>YES</td>\n",
       "        <td>154</td>\n",
       "        <td>8.5</td>\n",
       "    </tr>\n",
       "</table>"
      ],
      "text/plain": [
       "[('NO', 1652, 91.5), ('YES', 154, 8.5)]"
      ]
     },
     "execution_count": 31,
     "metadata": {},
     "output_type": "execute_result"
    }
   ],
   "source": [
    "%%sql \n",
    "WITH track_media AS \n",
    "( \n",
    "    SELECT \n",
    "        CASE \n",
    "        WHEN m.name LIKE \"%Protected%\"\n",
    "        THEN \"YES\"\n",
    "        ELSE \"NO\"\n",
    "        END protected,\n",
    "        t.track_id\n",
    "    FROM media_type AS m\n",
    "        INNER JOIN track t ON t.media_type_id = m.media_type_id\n",
    ")\n",
    "SELECT tm.protected,\n",
    "COUNT(DISTINCT il.track_id) AS count_tracks,\n",
    "ROUND(CAST(COUNT(DISTINCT il.track_id) AS FLOAT) / 1806 * 100, 1) AS percentage_tracks\n",
    "FROM invoice_line AS il\n",
    "LEFT JOIN track_media AS tm ON il.track_id = tm.track_id\n",
    "\n",
    "GROUP BY 1;"
   ]
  },
  {
   "cell_type": "markdown",
   "metadata": {},
   "source": [
    "most unprotected tracks among all, which allows us to say about their greater popularity"
   ]
  }
 ],
 "metadata": {
  "kernelspec": {
   "display_name": "Python 3",
   "language": "python",
   "name": "python3"
  },
  "language_info": {
   "codemirror_mode": {
    "name": "ipython",
    "version": 3
   },
   "file_extension": ".py",
   "mimetype": "text/x-python",
   "name": "python",
   "nbconvert_exporter": "python",
   "pygments_lexer": "ipython3",
   "version": "3.4.3"
  }
 },
 "nbformat": 4,
 "nbformat_minor": 2
}
